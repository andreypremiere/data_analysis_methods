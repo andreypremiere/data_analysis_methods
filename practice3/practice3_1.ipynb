{
 "cells": [
  {
   "cell_type": "code",
   "execution_count": 1,
   "id": "3ae57d2c-caa6-4472-9570-95147fd7d0b3",
   "metadata": {},
   "outputs": [],
   "source": [
    "import numpy as np\n",
    "import pandas as pd\n",
    "import seaborn as sns\n",
    "import matplotlib.pyplot as plt\n",
    "from sklearn.impute import KNNImputer\n",
    "from sklearn.preprocessing import StandardScaler\n",
    "from sklearn.preprocessing import OneHotEncoder\n",
    "import scipy.stats as stats\n",
    "from sklearn.preprocessing import LabelEncoder\n",
    "from scipy.stats import sigmaclip\n",
    "from sklearn.model_selection import train_test_split\n",
    "from sklearn.linear_model import LogisticRegression\n",
    "from sklearn.model_selection import GridSearchCV\n",
    "from sklearn.feature_selection import SelectKBest, f_classif, mutual_info_classif\n",
    "from imblearn.over_sampling import SMOTE\n",
    "from sklearn.metrics import roc_auc_score\n",
    "from sklearn.neighbors import KNeighborsClassifier\n",
    "from sklearn.naive_bayes import GaussianNB\n",
    "from sklearn.discriminant_analysis import LinearDiscriminantAnalysis\n",
    "from sklearn.svm import SVC\n",
    "from sklearn.feature_selection import RFE"
   ]
  },
  {
   "cell_type": "markdown",
   "id": "9dc01a04-3cb0-4b17-91fa-9310c9e94bc3",
   "metadata": {},
   "source": [
    "### Функции"
   ]
  },
  {
   "cell_type": "code",
   "execution_count": 2,
   "id": "81529155-ef0e-4b3d-8acf-0a9acc4fc5a8",
   "metadata": {},
   "outputs": [],
   "source": [
    "def perform_change(ar):\n",
    "    uniq_val = ar.unique()\n",
    "    decoder = {}\n",
    "    count = 1\n",
    "    for i in uniq_val:\n",
    "        if pd.isna(i):\n",
    "            decoder[count] = i\n",
    "            count += 1\n",
    "            continue\n",
    "        ar.replace(i, count, inplace=True)\n",
    "        decoder[count] = i\n",
    "        count += 1\n",
    "    return decoder\n",
    "\n",
    "def perform_decoder(ar, decoder):\n",
    "    for key, value in decoder.items():\n",
    "        ar.replace(key, value, inplace=True)"
   ]
  },
  {
   "cell_type": "code",
   "execution_count": 3,
   "id": "617b5409-d777-4215-9325-43a345425973",
   "metadata": {},
   "outputs": [],
   "source": [
    "value_for_find = ['-', ' ', -1, -9, 0, 'nan', np.nan]\n",
    "def info_table(df):\n",
    "    count_rows = df.shape[0]\n",
    "    \n",
    "    print(f\"Количество строк и столбцов: {df.shape}.\\n\")\n",
    "    \n",
    "    name_columns = df.columns.tolist()\n",
    "    print(f\"В таблице содержатся следующие столбцы: {name_columns}.\\n\")\n",
    "\n",
    "    general_count_isnull = df.isnull().sum().sum()\n",
    "    \n",
    "    print(\"Для всей таблицы:\\n\")\n",
    "\n",
    "    print(f\"Количество строк, в которых содержится хоть одно значение nan: {general_count_isnull}. \" + \n",
    "          f\"Процент от общего количества: {general_count_isnull/count_rows*100}\\n\")\n",
    "    \n",
    "    for k in value_for_find:\n",
    "            if pd.isna(k): \n",
    "                count = df.isna().sum().sum()      \n",
    "            else:\n",
    "                count = (df == k).sum().sum()\n",
    "            print(f\"Значение '{k}' встречается: {count} раз. {count/count_rows*100}% от общего количества\")\n",
    "    print()\n",
    "    \n",
    "    for name in name_columns:\n",
    "        print(f\"Тип данных в столбце {name}: {df[name].dtype}.\")\n",
    "        \n",
    "        print(f\"Количество уникальных значений в столбце {name}: {df[name].unique().shape}\")\n",
    "        \n",
    "        print(f\"Первые двадцать уникальных значений в столбце {name}: {df[name].unique()[:20:]}\")\n",
    "    \n",
    "        for k in value_for_find:\n",
    "            if pd.isna(k): \n",
    "                count = df[name].isna().sum()        \n",
    "            else:\n",
    "                count = (df[name] == k).sum() \n",
    "            print(f\"Значение '{k}' в столбце {name} встречается: {count} раз. {count/count_rows*100}% от общего количества\")\n",
    "        print()"
   ]
  },
  {
   "cell_type": "code",
   "execution_count": 4,
   "id": "eeda2c0e-6fd9-4a6f-bf7c-402ea5e4ea1b",
   "metadata": {},
   "outputs": [],
   "source": [
    "def perform_change(ar):\n",
    "    uniq_val = ar.unique()\n",
    "    decoder = {}\n",
    "    count = 1\n",
    "    for i in uniq_val:\n",
    "        if pd.isna(i):\n",
    "            decoder[count] = i\n",
    "            count += 1\n",
    "            continue\n",
    "        ar.replace(i, count, inplace=True)\n",
    "        decoder[count] = i\n",
    "        count += 1\n",
    "    return decoder\n",
    "\n",
    "def perform_decoder(ar, decoder):\n",
    "    for key, value in decoder.items():\n",
    "        ar.replace(key, value, inplace=True)"
   ]
  },
  {
   "cell_type": "code",
   "execution_count": 5,
   "id": "4d11694b-9a64-469a-9297-a60628dee9ec",
   "metadata": {},
   "outputs": [],
   "source": [
    "# Загрузка данных\n",
    "data_train = pd.read_csv('train.csv')\n",
    "data_test = pd.read_csv('test.csv')"
   ]
  },
  {
   "cell_type": "markdown",
   "id": "c67c3eb4-5bb8-48c3-a4d0-8081221dd7e9",
   "metadata": {},
   "source": [
    "### Анализ данных"
   ]
  },
  {
   "cell_type": "code",
   "execution_count": 6,
   "id": "9b820570-9fad-43c6-957b-6a1181e5bb58",
   "metadata": {
    "scrolled": true
   },
   "outputs": [
    {
     "name": "stdout",
     "output_type": "stream",
     "text": [
      "     PassengerId  Survived  Pclass  \\\n",
      "0            486         0       3   \n",
      "1            426         0       3   \n",
      "2            780         1       1   \n",
      "3            248         1       2   \n",
      "4            184         1       2   \n",
      "..           ...       ...     ...   \n",
      "529          643         0       3   \n",
      "530          375         0       3   \n",
      "531          177         0       3   \n",
      "532          438         1       2   \n",
      "533          461         1       1   \n",
      "\n",
      "                                                  Name     Sex   Age  SibSp  \\\n",
      "0                               Lefebre, Miss. Jeannie  female   NaN      3   \n",
      "1                               Wiseman, Mr. Phillippe    male   NaN      0   \n",
      "2    Robert, Mrs. Edward Scott (Elisabeth Walton Mc...  female  43.0      0   \n",
      "3                      Hamalainen, Mrs. William (Anna)  female  24.0      0   \n",
      "4                            Becker, Master. Richard F    male   1.0      2   \n",
      "..                                                 ...     ...   ...    ...   \n",
      "529                      Skoog, Miss. Margit Elizabeth  female   2.0      3   \n",
      "530                         Palsson, Miss. Stina Viola  female   3.0      3   \n",
      "531                      Lefebre, Master. Henry Forbes    male   NaN      3   \n",
      "532              Richards, Mrs. Sidney (Emily Hocking)  female  24.0      2   \n",
      "533                                Anderson, Mr. Harry    male  48.0      0   \n",
      "\n",
      "     Parch      Ticket      Fare Cabin Embarked  \n",
      "0        1        4133   25.4667   NaN        S  \n",
      "1        0  A/4. 34244    7.2500   NaN        S  \n",
      "2        1       24160  211.3375    B3        S  \n",
      "3        2      250649   14.5000   NaN        S  \n",
      "4        1      230136   39.0000    F4        S  \n",
      "..     ...         ...       ...   ...      ...  \n",
      "529      2      347088   27.9000   NaN        S  \n",
      "530      1      349909   21.0750   NaN        S  \n",
      "531      1        4133   25.4667   NaN        S  \n",
      "532      3       29106   18.7500   NaN        S  \n",
      "533      0       19952   26.5500   E12        S  \n",
      "\n",
      "[534 rows x 12 columns]\n",
      "     PassengerId  Pclass                                               Name  \\\n",
      "0            384       1  Holverson, Mrs. Alexander Oskar (Mary Aline To...   \n",
      "1            882       3                                 Markun, Mr. Johann   \n",
      "2            276       1                  Andrews, Miss. Kornelia Theodosia   \n",
      "3            648       1                Simonius-Blumer, Col. Oberst Alfons   \n",
      "4            224       3                               Nenkoff, Mr. Christo   \n",
      "..           ...     ...                                                ...   \n",
      "352          115       3                              Attalah, Miss. Malake   \n",
      "353          539       3                           Risien, Mr. Samuel Beard   \n",
      "354          656       2                          Hickman, Mr. Leonard Mark   \n",
      "355           11       3                    Sandstrom, Miss. Marguerite Rut   \n",
      "356          308       1  Penasco y Castellana, Mrs. Victor de Satode (M...   \n",
      "\n",
      "        Sex   Age  SibSp  Parch        Ticket      Fare Cabin Embarked  \n",
      "0    female  35.0      1      0        113789   52.0000   NaN        S  \n",
      "1      male  33.0      0      0        349257    7.8958   NaN        S  \n",
      "2    female  63.0      1      0         13502   77.9583    D7        S  \n",
      "3      male  56.0      0      0         13213   35.5000   A26        C  \n",
      "4      male   NaN      0      0        349234    7.8958   NaN        S  \n",
      "..      ...   ...    ...    ...           ...       ...   ...      ...  \n",
      "352  female  17.0      0      0          2627   14.4583   NaN        C  \n",
      "353    male   NaN      0      0        364498   14.5000   NaN        S  \n",
      "354    male  24.0      2      0  S.O.C. 14879   73.5000   NaN        S  \n",
      "355  female   4.0      1      1       PP 9549   16.7000    G6        S  \n",
      "356  female  17.0      1      0      PC 17758  108.9000   C65        C  \n",
      "\n",
      "[357 rows x 11 columns]\n"
     ]
    }
   ],
   "source": [
    "print(data_train)\n",
    "print(data_test)"
   ]
  },
  {
   "cell_type": "code",
   "execution_count": 7,
   "id": "f13c6a79-6442-4603-ae99-e711ecdbaeca",
   "metadata": {},
   "outputs": [
    {
     "name": "stdout",
     "output_type": "stream",
     "text": [
      "PassengerId      0\n",
      "Survived         0\n",
      "Pclass           0\n",
      "Name             0\n",
      "Sex              0\n",
      "Age            102\n",
      "SibSp            0\n",
      "Parch            0\n",
      "Ticket           0\n",
      "Fare             0\n",
      "Cabin          414\n",
      "Embarked         0\n",
      "dtype: int64\n",
      "\n",
      "PassengerId      0\n",
      "Pclass           0\n",
      "Name             0\n",
      "Sex              0\n",
      "Age             75\n",
      "SibSp            0\n",
      "Parch            0\n",
      "Ticket           0\n",
      "Fare             0\n",
      "Cabin          273\n",
      "Embarked         2\n",
      "dtype: int64\n"
     ]
    }
   ],
   "source": [
    "# Посмотрим количество пропущенных значений\n",
    "print(data_train.isna().sum())\n",
    "print()\n",
    "print(data_test.isna().sum())"
   ]
  },
  {
   "cell_type": "code",
   "execution_count": 8,
   "id": "5e50c8de-b126-46a4-aa84-dc7d6a468c06",
   "metadata": {},
   "outputs": [
    {
     "data": {
      "text/plain": [
       "PassengerId      int64\n",
       "Survived         int64\n",
       "Pclass           int64\n",
       "Name            object\n",
       "Sex             object\n",
       "Age            float64\n",
       "SibSp            int64\n",
       "Parch            int64\n",
       "Ticket          object\n",
       "Fare           float64\n",
       "Cabin           object\n",
       "Embarked        object\n",
       "dtype: object"
      ]
     },
     "execution_count": 8,
     "metadata": {},
     "output_type": "execute_result"
    }
   ],
   "source": [
    "data_train.dtypes"
   ]
  },
  {
   "cell_type": "code",
   "execution_count": 9,
   "id": "21964909-bf82-4fc6-aa68-b6f457c265da",
   "metadata": {},
   "outputs": [
    {
     "data": {
      "text/plain": [
       "PassengerId      int64\n",
       "Pclass           int64\n",
       "Name            object\n",
       "Sex             object\n",
       "Age            float64\n",
       "SibSp            int64\n",
       "Parch            int64\n",
       "Ticket          object\n",
       "Fare           float64\n",
       "Cabin           object\n",
       "Embarked        object\n",
       "dtype: object"
      ]
     },
     "execution_count": 9,
     "metadata": {},
     "output_type": "execute_result"
    }
   ],
   "source": [
    "data_test.dtypes"
   ]
  },
  {
   "cell_type": "code",
   "execution_count": 10,
   "id": "fe4c7305-9833-4b51-93f9-6f72f048fffc",
   "metadata": {},
   "outputs": [
    {
     "name": "stdout",
     "output_type": "stream",
     "text": [
      "       PassengerId    Survived      Pclass         Age       SibSp      Parch  \\\n",
      "count   534.000000  534.000000  534.000000  432.000000  534.000000  534.00000   \n",
      "mean    438.878277    0.391386    2.327715   29.612662    0.548689    0.38015   \n",
      "std     256.203078    0.488518    0.839514   14.740699    1.206793    0.81936   \n",
      "min       1.000000    0.000000    1.000000    0.420000    0.000000    0.00000   \n",
      "25%     213.250000    0.000000    2.000000   20.000000    0.000000    0.00000   \n",
      "50%     435.500000    0.000000    3.000000   28.000000    0.000000    0.00000   \n",
      "75%     654.750000    1.000000    3.000000   38.250000    1.000000    0.00000   \n",
      "max     891.000000    1.000000    3.000000   80.000000    8.000000    6.00000   \n",
      "\n",
      "             Fare  \n",
      "count  534.000000  \n",
      "mean    32.780453  \n",
      "std     52.203248  \n",
      "min      0.000000  \n",
      "25%      7.895800  \n",
      "50%     13.000000  \n",
      "75%     31.275000  \n",
      "max    512.329200  \n"
     ]
    }
   ],
   "source": [
    "print(data_train.describe())"
   ]
  },
  {
   "cell_type": "code",
   "execution_count": 11,
   "id": "eadfc27e-67bd-4cd9-81e5-1fe471f8c80d",
   "metadata": {},
   "outputs": [],
   "source": [
    "def sns_countplot(x_param, hue, df):\n",
    "    plt.figure()\n",
    "    sns.countplot(x=x_param, hue=hue, data=df)\n",
    "    plt.xlabel('Погиб/Выжил')\n",
    "    plt.ylabel('Количество')\n",
    "    plt.title(f'Соотношение погибших и выживших по {hue}')\n",
    "    plt.show()"
   ]
  },
  {
   "cell_type": "code",
   "execution_count": 12,
   "id": "16cd276d-8124-4591-ab3d-f2ceec85c94f",
   "metadata": {},
   "outputs": [
    {
     "data": {
      "image/png": "[encoded data removed]",
      "text/plain": [
       "<Figure size 640x480 with 1 Axes>"
      ]
     },
     "metadata": {},
     "output_type": "display_data"
    }
   ],
   "source": [
    "# Посмотрим на зависимость класса от целевой переменной\n",
    "sns_countplot('Survived', 'Pclass', data_train)"
   ]
  },
  {
   "cell_type": "markdown",
   "id": "215bb267-ebf6-4d4e-8f9b-25efd6a7bc89",
   "metadata": {},
   "source": [
    "Выживаемость в более высоких классах выше, чем в низких"
   ]
  },
  {
   "cell_type": "code",
   "execution_count": 13,
   "id": "ffc8fdbf-88c8-49e8-bbfc-0b607d3bf75d",
   "metadata": {},
   "outputs": [
    {
     "data": {
      "image/png": "[encoded data removed]",
      "text/plain": [
       "<Figure size 640x480 with 1 Axes>"
      ]
     },
     "metadata": {},
     "output_type": "display_data"
    }
   ],
   "source": [
    "# Зависимость выживыемости от пола\n",
    "sns_countplot('Survived', 'Sex', data_train)"
   ]
  },
  {
   "cell_type": "markdown",
   "id": "4ace5d6a-9c67-4499-b315-5b030aec81f3",
   "metadata": {},
   "source": [
    "Выживаемость женщин выше, чем у мужчин"
   ]
  },
  {
   "cell_type": "code",
   "execution_count": 14,
   "id": "5c6de471-cf03-4602-99f5-ec7c1817c4b1",
   "metadata": {},
   "outputs": [
    {
     "data": {
      "image/png": "[encoded data removed]",
      "text/plain": [
       "<Figure size 640x480 with 1 Axes>"
      ]
     },
     "metadata": {},
     "output_type": "display_data"
    }
   ],
   "source": [
    "plt.figure()\n",
    "sns.boxplot(x='Survived', y='Fare', data=data_train)\n",
    "plt.xlabel('Выжившие')\n",
    "plt.ylabel('Цена билета')\n",
    "plt.title('Зависимость выживаемости от цены билета')\n",
    "plt.show()"
   ]
  },
  {
   "cell_type": "code",
   "execution_count": 15,
   "id": "fab8db3d-172e-4c6e-b311-263e66d6b227",
   "metadata": {},
   "outputs": [
    {
     "name": "stdout",
     "output_type": "stream",
     "text": [
      "Количество выживших до 30 лет: 97\n",
      "Доля выживших до 30 лет: 0.41452991452991456\n",
      "Количество выживших между 30 и 60 лет: 70\n",
      "Доля выживших между 30 и 60 лет: 0.4268292682926829\n",
      "Количество выживших после 60 лет: 97\n",
      "Доля выживших после 60 лет: 0.23076923076923078\n"
     ]
    }
   ],
   "source": [
    "under_30_general = data_train[data_train['Age'] < 30]['Survived'].count()\n",
    "under_30_survived = data_train[(data_train['Age'] < 30) & (data_train['Survived'] == 1)]['Survived'].count()\n",
    "under_60_general = data_train[(data_train['Age'] > 30) & (data_train['Age'] < 60)]['Survived'].count()\n",
    "under_60_survived = data_train[(data_train['Age'] > 30) & (data_train['Age'] < 60) & (data_train['Survived'] == 1)]['Survived'].count()\n",
    "after_60_general = data_train[data_train['Age'] > 60]['Survived'].count()\n",
    "after_60_survived = data_train[(data_train['Age'] > 60) & (data_train['Survived'] == 1)]['Survived'].count()\n",
    "fraction_under_30 = under_30_survived / under_30_general\n",
    "fraction_under_60 = under_60_survived / under_60_general\n",
    "fraction_after_60 = after_60_survived / after_60_general\n",
    "print(f\"Количество выживших до 30 лет: {under_30_survived}\")\n",
    "print(f\"Доля выживших до 30 лет: {fraction_under_30}\")\n",
    "print(f\"Количество выживших между 30 и 60 лет: {under_60_survived}\")\n",
    "print(f\"Доля выживших между 30 и 60 лет: {fraction_under_60}\")\n",
    "print(f\"Количество выживших после 60 лет: {under_30_survived}\")\n",
    "print(f\"Доля выживших после 60 лет: {fraction_after_60}\")"
   ]
  },
  {
   "cell_type": "code",
   "execution_count": 16,
   "id": "e0ea01e1-62bb-4649-a81c-688864039c2e",
   "metadata": {},
   "outputs": [
    {
     "data": {
      "image/png": "[encoded data removed]",
      "text/plain": [
       "<Figure size 640x480 with 2 Axes>"
      ]
     },
     "metadata": {},
     "output_type": "display_data"
    }
   ],
   "source": [
    "# Посмотрим коррелирующие признаки\n",
    "data_matrix = data_train.copy()\n",
    "\n",
    "decoder_sex = perform_change(data_matrix['Sex'])\n",
    "decoder_embarked = perform_change(data_matrix['Embarked'])\n",
    "\n",
    "matrix = data_matrix.drop(['Name', 'Cabin', 'Ticket'], axis=1).corr()\n",
    "\n",
    "plt.figure()\n",
    "sns.heatmap(matrix, annot=True, cmap='coolwarm', fmt=\".2f\")\n",
    "plt.title('Корреляционная матрица')\n",
    "plt.show()"
   ]
  },
  {
   "cell_type": "markdown",
   "id": "ab16d0fe-f72f-49c2-a5b7-39f6d77b9503",
   "metadata": {},
   "source": [
    "### Обработка данных"
   ]
  },
  {
   "cell_type": "code",
   "execution_count": 17,
   "id": "7409da70-f0d4-43ae-88c7-88760beba8de",
   "metadata": {},
   "outputs": [],
   "source": [
    "knnimpute_data = data_train[['Survived', 'Pclass', 'Sex', 'Age', 'SibSp', 'Parch', 'Embarked']].copy()\n",
    "\n",
    "# Закодируем категориальные столбцы\n",
    "decoder_sex = perform_change(knnimpute_data['Sex'])\n",
    "decoder_embarked = perform_change(knnimpute_data['Embarked'])\n",
    "\n",
    "knn = KNNImputer(n_neighbors=5, weights='distance')\n",
    "\n",
    "scaler = StandardScaler()\n",
    "\n",
    "knnimpute_data = scaler.fit_transform(knnimpute_data) # стандартизируем\n",
    "\n",
    "knnimpute_data_imputed_temp = knn.fit_transform(knnimpute_data) # заполняем\n",
    "\n",
    "knnimpute_data = scaler.inverse_transform(knnimpute_data_imputed_temp)\n",
    "\n",
    "knnimpute_data = pd.DataFrame(knnimpute_data)\n",
    "knnimpute_data = knnimpute_data[[3]].astype(int)\n",
    "\n",
    "data_train['Age'] = knnimpute_data.values"
   ]
  },
  {
   "cell_type": "code",
   "execution_count": 18,
   "id": "6cfb6066-cf43-4220-a56e-9b14f20273c9",
   "metadata": {},
   "outputs": [],
   "source": [
    "knnimpute_data = data_test[['Pclass', 'Sex', 'Age', 'SibSp', 'Parch', 'Embarked']].copy()\n",
    "\n",
    "# Закодируем категориальные столбцы\n",
    "decoder_sex = perform_change(knnimpute_data['Sex'])\n",
    "decoder_embarked = perform_change(knnimpute_data['Embarked'])\n",
    "\n",
    "knnimpute_data = scaler.fit_transform(knnimpute_data) # стандартизируем\n",
    "\n",
    "knnimpute_data_imputed_temp = knn.fit_transform(knnimpute_data) # заполняем\n",
    "\n",
    "knnimpute_data = scaler.inverse_transform(knnimpute_data_imputed_temp)\n",
    "\n",
    "knnimpute_data = pd.DataFrame(knnimpute_data)\n",
    "knnimpute_data = knnimpute_data[[2]].astype(int)\n",
    "\n",
    "data_test['Age'] = knnimpute_data.values"
   ]
  },
  {
   "cell_type": "code",
   "execution_count": 19,
   "id": "8a5cf5b4-b909-4d9c-8851-334692b21001",
   "metadata": {},
   "outputs": [],
   "source": [
    "data_train.drop(['Name', 'Cabin', 'Ticket', 'PassengerId'], axis=1, inplace=True)"
   ]
  },
  {
   "cell_type": "code",
   "execution_count": 20,
   "id": "83e655d2-7303-4cbe-a60e-a9141215e5c1",
   "metadata": {},
   "outputs": [],
   "source": [
    "data_test.drop(['Name', 'Cabin', 'Ticket'], axis=1, inplace=True)"
   ]
  },
  {
   "cell_type": "code",
   "execution_count": 21,
   "id": "d3e5d708-9b47-41f0-88a0-183dd62e813d",
   "metadata": {},
   "outputs": [],
   "source": [
    "decoder_sex = perform_change(data_train['Sex'])\n",
    "decoder_emb = perform_change(data_train['Embarked'])"
   ]
  },
  {
   "cell_type": "code",
   "execution_count": 22,
   "id": "8bdb76b2-6815-4cd8-bb67-60b1f89ddbbc",
   "metadata": {},
   "outputs": [],
   "source": [
    "data_test.replace(np.nan, data_test['Embarked'].mode()[0], inplace=True)"
   ]
  },
  {
   "cell_type": "code",
   "execution_count": 23,
   "id": "3bb28272-14df-4efa-89e3-704f8b8d411e",
   "metadata": {},
   "outputs": [],
   "source": [
    "decoder_sex_t = perform_change(data_test['Sex'])\n",
    "decoder_emb_t = perform_change(data_test['Embarked'])"
   ]
  },
  {
   "cell_type": "code",
   "execution_count": 24,
   "id": "501cee22-1990-4189-be5c-e3a2c283aafa",
   "metadata": {},
   "outputs": [
    {
     "name": "stdout",
     "output_type": "stream",
     "text": [
      "Нижняя граница Fare: -0.8014583929911474\n",
      "Верхняя граница Fare: 123.35064276961627\n"
     ]
    }
   ],
   "source": [
    "values_of_sigmaclip = sigmaclip(data_train['Fare'], low=1, high=4)\n",
    "\n",
    "print(f\"Нижняя граница Fare: {values_of_sigmaclip.lower}\")\n",
    "print(f\"Верхняя граница Fare: {values_of_sigmaclip.upper}\")\n",
    "\n",
    "data_train = data_train[data_train['Fare'].isin(values_of_sigmaclip.clipped)]"
   ]
  },
  {
   "cell_type": "code",
   "execution_count": 25,
   "id": "68877120-1462-4347-a13b-d1aa0a7be0c5",
   "metadata": {},
   "outputs": [],
   "source": [
    "data_train = data_train[(data_train['Fare'] != 0) & (data_train['Age'] != 0)]"
   ]
  },
  {
   "cell_type": "code",
   "execution_count": 26,
   "id": "5f6f2cfe-9da8-4fc8-b710-b797d8f5de1e",
   "metadata": {},
   "outputs": [],
   "source": [
    "columns_to_scale = ['Age', 'Fare']\n",
    "data_st = data_train[columns_to_scale]\n",
    "data_scaled = scaler.fit_transform(data_st)\n",
    "data_train[columns_to_scale] = data_scaled"
   ]
  },
  {
   "cell_type": "code",
   "execution_count": 27,
   "id": "7d28fb2c-3847-4865-b26d-cfde17a67495",
   "metadata": {},
   "outputs": [],
   "source": [
    "data_st_t = data_test[columns_to_scale]\n",
    "data_scaled_t = scaler.fit_transform(data_st_t)\n",
    "data_test[columns_to_scale] = data_scaled_t"
   ]
  },
  {
   "cell_type": "code",
   "execution_count": 28,
   "id": "5a8bdf7c-7ef4-43fd-99a3-2eb9a88401e3",
   "metadata": {},
   "outputs": [
    {
     "name": "stdout",
     "output_type": "stream",
     "text": [
      "Survived    0\n",
      "Pclass      0\n",
      "Sex         0\n",
      "Age         0\n",
      "SibSp       0\n",
      "Parch       0\n",
      "Fare        0\n",
      "Embarked    0\n",
      "dtype: int64\n",
      "\n",
      "Survived      int64\n",
      "Pclass        int64\n",
      "Sex           int64\n",
      "Age         float64\n",
      "SibSp         int64\n",
      "Parch         int64\n",
      "Fare        float64\n",
      "Embarked      int64\n",
      "dtype: object\n"
     ]
    }
   ],
   "source": [
    "print(data_train.isna().sum())\n",
    "print()\n",
    "print(data_train.dtypes)"
   ]
  },
  {
   "cell_type": "code",
   "execution_count": 29,
   "id": "68dbe624-04a0-462f-9337-54db43fed81f",
   "metadata": {},
   "outputs": [
    {
     "name": "stdout",
     "output_type": "stream",
     "text": [
      "PassengerId    0\n",
      "Pclass         0\n",
      "Sex            0\n",
      "Age            0\n",
      "SibSp          0\n",
      "Parch          0\n",
      "Fare           0\n",
      "Embarked       0\n",
      "dtype: int64\n",
      "\n",
      "PassengerId      int64\n",
      "Pclass           int64\n",
      "Sex              int64\n",
      "Age            float64\n",
      "SibSp            int64\n",
      "Parch            int64\n",
      "Fare           float64\n",
      "Embarked         int64\n",
      "dtype: object\n"
     ]
    }
   ],
   "source": [
    "print(data_test.isna().sum())\n",
    "print()\n",
    "print(data_test.dtypes)"
   ]
  },
  {
   "cell_type": "code",
   "execution_count": 30,
   "id": "59eb813f-9e88-43b9-94f6-c8007b5baac3",
   "metadata": {},
   "outputs": [],
   "source": [
    "x = data_train.drop(columns=['Survived'])\n",
    "y = data_train['Survived']"
   ]
  },
  {
   "cell_type": "code",
   "execution_count": 31,
   "id": "d422fe29-15ab-4035-858b-31e3488dd039",
   "metadata": {},
   "outputs": [],
   "source": [
    "x_train, x_test, y_train, y_test = train_test_split(x, y, test_size=0.3, random_state=42)"
   ]
  },
  {
   "cell_type": "markdown",
   "id": "618714db-d977-4608-b3fe-1fb223f715ce",
   "metadata": {},
   "source": [
    "### Логистическая регрессия"
   ]
  },
  {
   "cell_type": "code",
   "execution_count": 32,
   "id": "df49d5b4-3df1-40ed-bed6-463968d32c61",
   "metadata": {},
   "outputs": [
    {
     "name": "stdout",
     "output_type": "stream",
     "text": [
      "ROC-AUC Score: 0.862609040444092\n"
     ]
    }
   ],
   "source": [
    "# сетка параметров\n",
    "param_grid = {'C': [0.001, 0.01, 0.1, 1, 10, 100]}\n",
    "\n",
    "logistic_regression = LogisticRegression()\n",
    "\n",
    "# объект для перекрестной проверки с поиском по сетке\n",
    "grid_search = GridSearchCV(logistic_regression, param_grid, cv=10, scoring='roc_auc')\n",
    "\n",
    "# Обучение модели на обработанных данных\n",
    "grid_search.fit(x_train, y_train)\n",
    "\n",
    "best_logistic_regression = grid_search.best_estimator_\n",
    "\n",
    "y_pred = best_logistic_regression.predict(x_test)\n",
    "\n",
    "y_pred_proba = best_logistic_regression.predict_proba(x_test)\n",
    "\n",
    "roc_auc = roc_auc_score(y_test, y_pred_proba[:, 1])\n",
    "print(\"ROC-AUC Score:\", roc_auc)"
   ]
  },
  {
   "cell_type": "markdown",
   "id": "40e2115f-b0d8-413f-99bf-d7616faec277",
   "metadata": {},
   "source": [
    "### Метод ближайших соседей"
   ]
  },
  {
   "cell_type": "code",
   "execution_count": 33,
   "id": "8da98de1-7cd5-4899-ab43-d2be9e518788",
   "metadata": {},
   "outputs": [
    {
     "name": "stdout",
     "output_type": "stream",
     "text": [
      "ROC-AUC Score for KNN: 0.8711340206185567\n"
     ]
    }
   ],
   "source": [
    "# сетка параметров \n",
    "param_grid = {'n_neighbors': [3, 5, 7, 9, 11], \n",
    "              'weights': ['uniform', 'distance']}\n",
    "\n",
    "knn = KNeighborsClassifier()\n",
    "\n",
    "grid_search_knn = GridSearchCV(knn, param_grid, cv=10, scoring='roc_auc')\n",
    "\n",
    "grid_search_knn.fit(x_train, y_train)\n",
    "\n",
    "best_knn = grid_search_knn.best_estimator_\n",
    "\n",
    "y_pred_knn = best_knn.predict(x_test)\n",
    "\n",
    "y_pred_knn_proba = best_knn.predict_proba(x_test)\n",
    "\n",
    "roc_auc_knn = roc_auc_score(y_test, y_pred_knn_proba[:, 1])\n",
    "print(\"ROC-AUC Score for KNN:\", roc_auc_knn)"
   ]
  },
  {
   "cell_type": "markdown",
   "id": "13741f0b-f411-4c29-ba37-7344d35d02aa",
   "metadata": {},
   "source": [
    "### Наивный байесовский классификатор"
   ]
  },
  {
   "cell_type": "code",
   "execution_count": 34,
   "id": "69dda4d1-df57-4cba-b9b7-9c05508eb530",
   "metadata": {},
   "outputs": [
    {
     "name": "stdout",
     "output_type": "stream",
     "text": [
      "ROC-AUC Score for Naive Bayes: 0.8296986518636004\n"
     ]
    }
   ],
   "source": [
    "naive_bayes = GaussianNB()\n",
    "\n",
    "naive_bayes.fit(x_train, y_train)\n",
    "\n",
    "y_pred_nb = naive_bayes.predict_proba(x_test)\n",
    "\n",
    "roc_auc_nb = roc_auc_score(y_test, y_pred_nb[:, 1])\n",
    "print(\"ROC-AUC Score for Naive Bayes:\", roc_auc_nb)"
   ]
  },
  {
   "cell_type": "markdown",
   "id": "a87f74f3-9767-45b1-8f36-68cafd2a508a",
   "metadata": {},
   "source": [
    "### Дискриминантный анализ"
   ]
  },
  {
   "cell_type": "code",
   "execution_count": 35,
   "id": "b6914d4b-3cbd-407d-9225-8bbb06684d86",
   "metadata": {},
   "outputs": [
    {
     "name": "stdout",
     "output_type": "stream",
     "text": [
      "ROC-AUC Score: 0.8641950832672483\n"
     ]
    }
   ],
   "source": [
    "# сетки параметров для перекрестной проверки\n",
    "param_grid = {'solver': ['svd', 'lsqr', 'eigen']}\n",
    "\n",
    "lda = LinearDiscriminantAnalysis()\n",
    "\n",
    "grid_search = GridSearchCV(lda, param_grid, cv=10, scoring='roc_auc')\n",
    "\n",
    "grid_search.fit(x_train, y_train)\n",
    "\n",
    "best_lda = grid_search.best_estimator_\n",
    "y_pred = best_lda.predict_proba(x_test)\n",
    "roc_auc = roc_auc_score(y_test, y_pred[:, 1])\n",
    "print(\"ROC-AUC Score:\", roc_auc)"
   ]
  },
  {
   "cell_type": "markdown",
   "id": "a557ab9b-3f9c-4924-a646-2325a6afdea5",
   "metadata": {},
   "source": [
    "### Машина опорных векторов"
   ]
  },
  {
   "cell_type": "code",
   "execution_count": 36,
   "id": "92ca33f0-ff4a-4fac-b973-6f7720a4e654",
   "metadata": {},
   "outputs": [
    {
     "name": "stdout",
     "output_type": "stream",
     "text": [
      "ROC-AUC Score: 0.8705392545598731\n"
     ]
    }
   ],
   "source": [
    "param_grid = {\n",
    "    'C': [0.001, 0.01, 0.1, 1, 10, 100]}\n",
    "\n",
    "svm = SVC(probability=True)\n",
    "\n",
    "grid_search = GridSearchCV(svm, param_grid, cv=10, scoring='roc_auc')\n",
    "\n",
    "grid_search.fit(x_train, y_train)\n",
    "\n",
    "best_svm = grid_search.best_estimator_\n",
    "y_pred = best_svm.predict_proba(x_test)\n",
    "\n",
    "roc_auc = roc_auc_score(y_test, y_pred[:, 1])\n",
    "print(\"ROC-AUC Score:\", roc_auc)\n"
   ]
  },
  {
   "cell_type": "markdown",
   "id": "3ca44df4-942c-4c93-a0a2-419ef3289fb4",
   "metadata": {},
   "source": [
    "### Отбор информативных признаков"
   ]
  },
  {
   "cell_type": "markdown",
   "id": "15134f9c-7aff-45d4-b104-227d5587c477",
   "metadata": {},
   "source": [
    "##### Для отбора признаков"
   ]
  },
  {
   "cell_type": "code",
   "execution_count": null,
   "id": "7440344e-1a6d-49a3-9376-936ef31093b6",
   "metadata": {},
   "outputs": [],
   "source": [
    "X = data_train.drop('Survived', axis=1)\n",
    "Y = data_train['Survived']"
   ]
  },
  {
   "cell_type": "markdown",
   "id": "61fade9b-1f4b-4a9a-bd97-b1f7c0e8d92b",
   "metadata": {},
   "source": [
    "#### Метод фильтрации"
   ]
  },
  {
   "cell_type": "code",
   "execution_count": null,
   "id": "2fa97484-5087-4b87-a635-0b19ae79f275",
   "metadata": {},
   "outputs": [],
   "source": [
    "# Оценка важности признаков\n",
    "selector = SelectKBest(mutual_info_classif, k=4) # Выберем 5 наиболее информативных признаков\n",
    "X_new = selector.fit_transform(X, Y)\n",
    "\n",
    "selected_features_idx = selector.get_support(indices=True)\n",
    "\n",
    "selected_features_names = X.columns[selected_features_idx]\n",
    "\n",
    "print(\"Отобранные признаки:\")\n",
    "print(selected_features_names.tolist())"
   ]
  },
  {
   "cell_type": "markdown",
   "id": "82a76236-5ba1-4936-b1e5-924eb3fc35fd",
   "metadata": {},
   "source": [
    "#### Метод обертки (с логистической регрессией)"
   ]
  },
  {
   "cell_type": "code",
   "execution_count": null,
   "id": "71b756b3-6b9f-4f5c-afb3-11b0ae2ce510",
   "metadata": {},
   "outputs": [],
   "source": [
    "# Создание объекта с моделью\n",
    "rfe = RFE(estimator=logistic_regression, n_features_to_select=4)\n",
    "\n",
    "# применение и получение новых признаков\n",
    "X_rfe = rfe.fit_transform(X, Y)\n",
    "\n",
    "feature_ranking = rfe.ranking_\n",
    "\n",
    "# оценка производительности\n",
    "logistic_regression.fit(X_rfe, Y)\n",
    "\n",
    "# отбор\n",
    "selected_features_indexes = rfe.support_\n",
    "selected_features_names = X.columns[selected_features_indexes]\n",
    "\n",
    "print(selected_features_names.tolist())"
   ]
  },
  {
   "cell_type": "markdown",
   "id": "dd0d97eb-e698-417f-b5d4-d05d702aa65b",
   "metadata": {},
   "source": [
    "Перед проверкой на модели"
   ]
  },
  {
   "cell_type": "code",
   "execution_count": null,
   "id": "ce01b785-12f7-46da-8b02-b6b7b359790d",
   "metadata": {},
   "outputs": [],
   "source": [
    "x = data_train[selected_features_names.tolist()] \n",
    "y = data_train['Survived']"
   ]
  },
  {
   "cell_type": "code",
   "execution_count": null,
   "id": "a20fe00a-f952-4a94-8de9-aafbd5088b6d",
   "metadata": {},
   "outputs": [],
   "source": [
    "x_train, x_test, y_train, y_test = train_test_split(x, y, test_size=0.3, random_state=42)"
   ]
  },
  {
   "cell_type": "markdown",
   "id": "b1b7649d-44f0-4dd9-b2c9-81082e8b4d4f",
   "metadata": {},
   "source": [
    "#### Сэмплирование"
   ]
  },
  {
   "cell_type": "code",
   "execution_count": null,
   "id": "cbd0e84c-c545-4442-90b1-a70a0cd60d73",
   "metadata": {},
   "outputs": [],
   "source": [
    "x = data_train.drop(columns=['Survived'])  \n",
    "y = data_train['Survived']\n",
    "x_train, x_test, y_train, y_test = train_test_split(x, y, test_size=0.3, random_state=42)"
   ]
  },
  {
   "cell_type": "code",
   "execution_count": null,
   "id": "4d7c143d-3b3e-423b-9a63-55020ef6d7c7",
   "metadata": {},
   "outputs": [],
   "source": [
    "from imblearn.over_sampling import RandomOverSampler\n",
    "\n",
    "ros = RandomOverSampler()\n",
    "x_train, y_train = ros.fit_resample(x_train, y_train)"
   ]
  },
  {
   "cell_type": "markdown",
   "id": "6f1a833b-e56c-4813-954b-e396d4673120",
   "metadata": {},
   "source": [
    "### Применим алгоритм логистической регрессии к тестовой выборке"
   ]
  },
  {
   "cell_type": "code",
   "execution_count": null,
   "id": "b91a0b0e-8047-47cb-a8f8-c09822557a98",
   "metadata": {},
   "outputs": [],
   "source": [
    "data_test['Survived'] = np.nan"
   ]
  },
  {
   "cell_type": "code",
   "execution_count": null,
   "id": "6a373eb2-605c-4f65-849c-4494a1043df0",
   "metadata": {},
   "outputs": [],
   "source": [
    "x_test_t = data_test.drop(['PassengerId', 'Survived'], axis=1)"
   ]
  },
  {
   "cell_type": "code",
   "execution_count": null,
   "id": "82b0959d-426e-423b-a862-4241ae80c0b6",
   "metadata": {},
   "outputs": [],
   "source": [
    "y_pred_test = best_logistic_regression.predict_proba(x_test_t)"
   ]
  },
  {
   "cell_type": "code",
   "execution_count": null,
   "id": "3ce1a92d-9eed-4e96-af82-3c6e762299a1",
   "metadata": {},
   "outputs": [],
   "source": [
    "data_test['Survived'] = y_pred_test[:, 1]"
   ]
  },
  {
   "cell_type": "code",
   "execution_count": null,
   "id": "5af9b01a-e5dc-4324-a1f8-079b20e16d7f",
   "metadata": {},
   "outputs": [],
   "source": [
    "data_test_response = data_test[['PassengerId', 'Survived']]"
   ]
  },
  {
   "cell_type": "code",
   "execution_count": null,
   "id": "e5c868e3-266a-45a8-9785-e9c8436f3920",
   "metadata": {},
   "outputs": [],
   "source": [
    "data_test_response.to_csv('response.csv', index=False)"
   ]
  }
 ],
 "metadata": {
  "kernelspec": {
   "display_name": "Python 3 (ipykernel)",
   "language": "python",
   "name": "python3"
  },
  "language_info": {
   "codemirror_mode": {
    "name": "ipython",
    "version": 3
   },
   "file_extension": ".py",
   "mimetype": "text/x-python",
   "name": "python",
   "nbconvert_exporter": "python",
   "pygments_lexer": "ipython3",
   "version": "3.10.10"
  }
 },
 "nbformat": 4,
 "nbformat_minor": 5
}
